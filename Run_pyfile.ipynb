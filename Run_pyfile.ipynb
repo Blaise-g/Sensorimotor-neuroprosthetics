{
 "cells": [
  {
   "cell_type": "markdown",
   "id": "d6349914",
   "metadata": {
    "pycharm": {
     "name": "#%% md\n"
    }
   },
   "source": [
    "# RUN python file"
   ]
  },
  {
   "cell_type": "code",
   "execution_count": null,
   "id": "880d727a",
   "metadata": {
    "pycharm": {
     "name": "#%%\n"
    }
   },
   "outputs": [],
   "source": [
    "command_main = 'python3 media_pipe.py'"
   ]
  },
  {
   "cell_type": "code",
   "execution_count": 10,
   "id": "cf090c11",
   "metadata": {
    "pycharm": {
     "name": "#%%\n"
    }
   },
   "outputs": [
    {
     "name": "stdout",
     "output_type": "stream",
     "text": [
      "fatal: unable to access 'https://github.com/sercharpak/SMN_P6/': Could not resolve host: github.com\r\n"
     ]
    }
   ],
   "source": [
    "! git push\n"
   ]
  },
  {
   "cell_type": "code",
   "execution_count": 8,
   "id": "30107358",
   "metadata": {
    "pycharm": {
     "name": "#%%\n"
    }
   },
   "outputs": [],
   "source": [
    "! git config --global user.email \"milo.imbeni@gmail.com\""
   ]
  },
  {
   "cell_type": "code",
   "execution_count": 3,
   "id": "7a84d36d",
   "metadata": {
    "pycharm": {
     "name": "#%%\n"
    }
   },
   "outputs": [
    {
     "name": "stdout",
     "output_type": "stream",
     "text": [
      "Launching main\n",
      "GST_ARGUS: Creating output stream\n",
      "CONSUMER: Waiting until producer is connected...\n",
      "GST_ARGUS: Available Sensor modes :\n",
      "GST_ARGUS: 3264 x 2464 FR = 21.000000 fps Duration = 47619048 ; Analog Gain range min 1.000000, max 10.625000; Exposure Range min 13000, max 683709000;\n",
      "\n",
      "GST_ARGUS: 3264 x 1848 FR = 28.000001 fps Duration = 35714284 ; Analog Gain range min 1.000000, max 10.625000; Exposure Range min 13000, max 683709000;\n",
      "\n",
      "GST_ARGUS: 1920 x 1080 FR = 29.999999 fps Duration = 33333334 ; Analog Gain range min 1.000000, max 10.625000; Exposure Range min 13000, max 683709000;\n",
      "\n",
      "GST_ARGUS: 1640 x 1232 FR = 29.999999 fps Duration = 33333334 ; Analog Gain range min 1.000000, max 10.625000; Exposure Range min 13000, max 683709000;\n",
      "\n",
      "GST_ARGUS: 1280 x 720 FR = 59.999999 fps Duration = 16666667 ; Analog Gain range min 1.000000, max 10.625000; Exposure Range min 13000, max 683709000;\n",
      "\n",
      "GST_ARGUS: 1280 x 720 FR = 120.000005 fps Duration = 8333333 ; Analog Gain range min 1.000000, max 10.625000; Exposure Range min 13000, max 683709000;\n",
      "\n",
      "GST_ARGUS: Running with following settings:\n",
      "   Camera index = 0 \n",
      "   Camera mode  = 0 \n",
      "   Output Stream W = 3264 H = 2464 \n",
      "   seconds to Run    = 0 \n",
      "   Frame Rate = 21.000000 \n",
      "GST_ARGUS: Setup Complete, Starting captures for 0 seconds\n",
      "GST_ARGUS: Starting repeat capture requests.\n",
      "CONSUMER: Producer has connected; continuing.\n",
      "nvbuf_utils: dmabuf_fd -1 mapped entry NOT found\n",
      "nvbuf_utils: Can not get HW buffer from FD... Exiting...\n",
      "CONSUMER: Done Success\n",
      "[ WARN:0] global /home/nvidia/host/build_opencv/nv_opencv/modules/videoio/src/cap_gstreamer.cpp (933) open OpenCV | GStreamer warning: Cannot query video position: status=0, value=-1, duration=-1\n",
      "WARNING: Logging before InitGoogleLogging() is written to STDERR\n",
      "I20211209 15:41:07.221438 15374 gl_context_egl.cc:163] Successfully initialized EGL. Major : 1 Minor: 5\n",
      "W20211209 15:41:07.221602 15374 gl_context_egl.cc:168] Creating a context with OpenGL ES 3 failed: UNKNOWN: ; eglChooseConfig() returned no matching EGL configuration for RGBA8888 D16 ES3 request. \n",
      "W20211209 15:41:07.221678 15374 gl_context_egl.cc:169] Fall back on OpenGL ES 2.\n",
      "Traceback (most recent call last):\n",
      "  File \"media_pipe.py\", line 30, in <module>\n",
      "    min_tracking_confidence=0.5) as pose:\n",
      "  File \"/usr/local/lib/python3.6/dist-packages/mediapipe/python/solutions/pose.py\", line 188, in __init__\n",
      "    outputs=['pose_landmarks'])\n",
      "  File \"/usr/local/lib/python3.6/dist-packages/mediapipe/python/solution_base.py\", line 254, in __init__\n",
      "    self._graph.start_run(input_side_packets)\n",
      "RuntimeError: ; eglChooseConfig() returned no matching EGL configuration for RGBA8888 D16 ES2 request. \n",
      "GST_ARGUS: Cleaning up\n",
      "(Argus) Error Timeout:  (propagating from src/rpc/socket/client/ClientSocketManager.cpp, function send(), line 137)\n",
      "(Argus) Error Timeout:  (propagating from src/rpc/socket/client/SocketClientDispatch.cpp, function dispatch(), line 91)\n",
      "(Argus) Error Timeout:  (propagating from src/rpc/socket/client/ClientSocketManager.cpp, function send(), line 137)\n",
      "(Argus) Error Timeout:  (propagating from src/rpc/socket/client/SocketClientDispatch.cpp, function dispatch(), line 91)\n",
      "GST_ARGUS: Done Success\n",
      "(Argus) Error InvalidState: Argus client is exiting with 2 outstanding client threads (in src/rpc/socket/client/ClientSocketManager.cpp, function recvThreadCore(), line 357)\n"
     ]
    }
   ],
   "source": [
    "! python3 media_pipe.py"
   ]
  },
  {
   "cell_type": "code",
   "execution_count": 5,
   "id": "058b4df5",
   "metadata": {
    "pycharm": {
     "name": "#%%\n"
    }
   },
   "outputs": [],
   "source": [
    "password = 'miim'"
   ]
  },
  {
   "cell_type": "code",
   "execution_count": 6,
   "id": "d7d9c5bd",
   "metadata": {
    "pycharm": {
     "name": "#%%\n"
    }
   },
   "outputs": [
    {
     "name": "stdout",
     "output_type": "stream",
     "text": [
      "[sudo] password for milo: Sorry, try again.\n",
      "[sudo] password for milo: \n",
      "sudo: 1 incorrect password attempt\n"
     ]
    }
   ],
   "source": [
    "!echo {password}|sudo -S {command_main}"
   ]
  },
  {
   "cell_type": "code",
   "execution_count": 1,
   "id": "a633e2a0",
   "metadata": {
    "pycharm": {
     "name": "#%%\n"
    }
   },
   "outputs": [],
   "source": [
    "cleandaemon = 'service nvargus-daemon restart'"
   ]
  },
  {
   "cell_type": "code",
   "execution_count": 4,
   "id": "48c8878c",
   "metadata": {
    "pycharm": {
     "name": "#%%\n"
    }
   },
   "outputs": [
    {
     "name": "stdout",
     "output_type": "stream",
     "text": [
      "[sudo] password for milo: "
     ]
    }
   ],
   "source": [
    "!echo {password}|sudo -S {cleandaemon}"
   ]
  },
  {
   "cell_type": "code",
   "execution_count": 2,
   "id": "6e5163c4",
   "metadata": {
    "pycharm": {
     "name": "#%%\n"
    }
   },
   "outputs": [],
   "source": [
    "testmotors = 'python3 test-motors.py'"
   ]
  },
  {
   "cell_type": "code",
   "execution_count": 3,
   "id": "c973058a",
   "metadata": {
    "pycharm": {
     "name": "#%%\n"
    }
   },
   "outputs": [
    {
     "name": "stdout",
     "output_type": "stream",
     "text": [
      "[sudo] password for milo: 0\n",
      "0\n",
      "0\n",
      "\n",
      "Start 1\n",
      "0\n",
      "0\n",
      "1\n",
      "\n",
      "Forward 1\n",
      "0\n",
      "1\n",
      "1\n",
      "\n",
      "Stop\n",
      "0\n",
      "0\n",
      "1\n",
      "\n",
      "Backward 1\n",
      "1\n",
      "0\n",
      "1\n",
      "\n",
      "Stop\n",
      "0\n",
      "0\n",
      "0\n",
      "0\n",
      "0\n",
      "0\n",
      "\n",
      "Start 2\n",
      "1\n",
      "0\n",
      "0\n",
      "\n",
      "Forward 2\n",
      "1\n",
      "1\n",
      "0\n",
      "\n",
      "Stop\n",
      "1\n",
      "0\n",
      "0\n",
      "\n",
      "Backward 2\n",
      "1\n",
      "0\n",
      "1\n",
      "\n",
      "Stop\n",
      "0\n",
      "0\n",
      "0\n"
     ]
    }
   ],
   "source": [
    "!echo {password}|sudo -S {testmotors}"
   ]
  },
  {
   "cell_type": "code",
   "execution_count": 4,
   "id": "7d62dc4f",
   "metadata": {
    "pycharm": {
     "name": "#%%\n"
    }
   },
   "outputs": [],
   "source": [
    "runmotors = 'python3 run_forrest.py'"
   ]
  },
  {
   "cell_type": "code",
   "execution_count": 20,
   "id": "f648053a",
   "metadata": {
    "pycharm": {
     "name": "#%%\n"
    }
   },
   "outputs": [
    {
     "name": "stdout",
     "output_type": "stream",
     "text": [
      "[sudo] password for milo: \n",
      "Start 1\n",
      "\n",
      "Forward\n",
      "\n",
      "Turn\n",
      "\n",
      "Forward\n",
      "\n",
      "Stop\n"
     ]
    }
   ],
   "source": [
    "!echo {password}|sudo -S {runmotors}"
   ]
  },
  {
   "cell_type": "code",
   "execution_count": 9,
   "id": "4507998c",
   "metadata": {
    "pycharm": {
     "name": "#%%\n"
    }
   },
   "outputs": [
    {
     "name": "stdout",
     "output_type": "stream",
     "text": [
      "\n",
      "Start 1\n",
      "\n",
      "Forward\n",
      "\n",
      "Turn\n",
      "\n",
      "Forward\n",
      "\n",
      "Stop\n"
     ]
    }
   ],
   "source": [
    "! python3 spin_forrest.py"
   ]
  },
  {
   "cell_type": "code",
   "execution_count": 5,
   "id": "60949cdf",
   "metadata": {
    "pycharm": {
     "name": "#%%\n"
    }
   },
   "outputs": [
    {
     "name": "stdout",
     "output_type": "stream",
     "text": [
      "Defaulting to user installation because normal site-packages is not writeable\n",
      "^C\n"
     ]
    }
   ],
   "source": [
    "! pip3 install RPi"
   ]
  },
  {
   "cell_type": "code",
   "execution_count": 1,
   "id": "e6c5d3e1",
   "metadata": {
    "pycharm": {
     "name": "#%%\n"
    }
   },
   "outputs": [
    {
     "ename": "ModuleNotFoundError",
     "evalue": "No module named 'mediapipe'",
     "output_type": "error",
     "traceback": [
      "\u001B[0;31m---------------------------------------------------------------------------\u001B[0m",
      "\u001B[0;31mModuleNotFoundError\u001B[0m                       Traceback (most recent call last)",
      "\u001B[0;32m/tmp/ipykernel_8385/3811128499.py\u001B[0m in \u001B[0;36m<module>\u001B[0;34m\u001B[0m\n\u001B[0;32m----> 1\u001B[0;31m \u001B[0;32mimport\u001B[0m \u001B[0mmediapipe\u001B[0m\u001B[0;34m\u001B[0m\u001B[0;34m\u001B[0m\u001B[0m\n\u001B[0m",
      "\u001B[0;31mModuleNotFoundError\u001B[0m: No module named 'mediapipe'"
     ]
    }
   ],
   "source": [
    "import mediapipe"
   ]
  },
  {
   "cell_type": "code",
   "execution_count": null,
   "id": "b2961102",
   "metadata": {
    "pycharm": {
     "name": "#%%\n"
    }
   },
   "outputs": [],
   "source": []
  }
 ],
 "metadata": {
  "kernelspec": {
   "display_name": "Python 3 (ipykernel)",
   "language": "python",
   "name": "python3"
  },
  "language_info": {
   "codemirror_mode": {
    "name": "ipython",
    "version": 3
   },
   "file_extension": ".py",
   "mimetype": "text/x-python",
   "name": "python",
   "nbconvert_exporter": "python",
   "pygments_lexer": "ipython3",
   "version": "3.9.7"
  }
 },
 "nbformat": 4,
 "nbformat_minor": 5
}